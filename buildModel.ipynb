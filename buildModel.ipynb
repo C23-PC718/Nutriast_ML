{
 "cells": [
  {
   "cell_type": "code",
   "execution_count": 3,
   "metadata": {},
   "outputs": [],
   "source": [
    "import pandas as pd\n",
    "import tensorflow as tf\n",
    "# import tensorflowjs as tfjs\n",
    "\n",
    "# Read the CSV file\n",
    "df = pd.read_csv(\"heart.csv\", index_col=0)\n",
    "\n",
    "# Separate the features from the target variable\n",
    "X = df.drop(\"cardio\", axis=1)\n",
    "y = df[\"cardio\"]\n"
   ]
  },
  {
   "cell_type": "code",
   "execution_count": 4,
   "metadata": {},
   "outputs": [],
   "source": [
    "cat_cols = [\"gender\", \"cholesterol\", \"gluc\"]\n",
    "num_cols = [\"age\", \"height\", \"weight\"]\n",
    "\n",
    "# Perform one-hot encoding on categorical variables\n",
    "X_cat = pd.get_dummies(X[cat_cols], drop_first=True)\n",
    "\n",
    "# Scale numerical variables using MinMaxScaler\n",
    "from sklearn.preprocessing import MinMaxScaler\n",
    "\n",
    "scaler = MinMaxScaler()\n",
    "X_num = scaler.fit_transform(X[num_cols])\n",
    "\n",
    "# Combine the preprocessed data\n",
    "import numpy as np\n",
    "\n",
    "X_preprocessed = np.concatenate((X_cat, X_num), axis=1)\n"
   ]
  },
  {
   "cell_type": "code",
   "execution_count": 5,
   "metadata": {},
   "outputs": [
    {
     "name": "stdout",
     "output_type": "stream",
     "text": [
      "Epoch 1/10\n",
      "2188/2188 [==============================] - 2s 888us/step - loss: 0.6484 - accuracy: 0.6189\n",
      "Epoch 2/10\n",
      "2188/2188 [==============================] - 2s 886us/step - loss: 0.6341 - accuracy: 0.6378\n",
      "Epoch 3/10\n",
      "2188/2188 [==============================] - 2s 851us/step - loss: 0.6331 - accuracy: 0.6403\n",
      "Epoch 4/10\n",
      "2188/2188 [==============================] - 2s 857us/step - loss: 0.6330 - accuracy: 0.6386\n",
      "Epoch 5/10\n",
      "2188/2188 [==============================] - 2s 863us/step - loss: 0.6326 - accuracy: 0.6405\n",
      "Epoch 6/10\n",
      "2188/2188 [==============================] - 2s 927us/step - loss: 0.6322 - accuracy: 0.6401\n",
      "Epoch 7/10\n",
      "2188/2188 [==============================] - 2s 958us/step - loss: 0.6323 - accuracy: 0.6396\n",
      "Epoch 8/10\n",
      "2188/2188 [==============================] - 2s 883us/step - loss: 0.6319 - accuracy: 0.6399\n",
      "Epoch 9/10\n",
      "2188/2188 [==============================] - 2s 878us/step - loss: 0.6316 - accuracy: 0.6404\n",
      "Epoch 10/10\n",
      "2188/2188 [==============================] - 2s 856us/step - loss: 0.6313 - accuracy: 0.6398\n"
     ]
    },
    {
     "data": {
      "text/plain": [
       "<keras.callbacks.History at 0x1af789d7ac0>"
      ]
     },
     "execution_count": 5,
     "metadata": {},
     "output_type": "execute_result"
    }
   ],
   "source": [
    "from tensorflow.keras.models import Sequential\n",
    "from tensorflow.keras.layers import Dense\n",
    "\n",
    "# Build the model\n",
    "model = Sequential([\n",
    "    Dense(32, activation=\"relu\", input_shape=(X_preprocessed.shape[1],)),\n",
    "    Dense(16, activation=\"relu\"),\n",
    "    Dense(1, activation=\"sigmoid\")\n",
    "])\n",
    "\n",
    "# Compile the model\n",
    "model.compile(optimizer=\"adam\", loss=\"binary_crossentropy\", metrics=[\"accuracy\"])\n",
    "\n",
    "# Train the model\n",
    "model.fit(X_preprocessed, y, epochs=10)\n"
   ]
  },
  {
   "cell_type": "code",
   "execution_count": 6,
   "metadata": {},
   "outputs": [],
   "source": [
    "# Save the model in Tensorflow.js format\n",
    "# model.save(\"model.h5\")\n",
    "# tfjs.converters.save_keras_model(model, \"model_tfjs\")\n"
   ]
  },
  {
   "cell_type": "code",
   "execution_count": 14,
   "metadata": {},
   "outputs": [],
   "source": [
    "# test_data = {\n",
    "#      \"age\": 20228,\n",
    "#     \"gender\": 1,\n",
    "#     \"height\": 156,\n",
    "#     \"weight\": 85,\n",
    "#     \"cholesterol\": 3,\n",
    "#     \"gluc\": 1,\n",
    "#     \"smoke\": 0,\n",
    "#     \"alco\": 0,\n",
    "#     \"active\": 1\n",
    "# }\n",
    "# model.predict(test_data)[0][0]"
   ]
  }
 ],
 "metadata": {
  "kernelspec": {
   "display_name": "Python 3",
   "language": "python",
   "name": "python3"
  },
  "language_info": {
   "codemirror_mode": {
    "name": "ipython",
    "version": 3
   },
   "file_extension": ".py",
   "mimetype": "text/x-python",
   "name": "python",
   "nbconvert_exporter": "python",
   "pygments_lexer": "ipython3",
   "version": "3.9.7"
  },
  "orig_nbformat": 4,
  "vscode": {
   "interpreter": {
    "hash": "1a2f262017fcdd9538881435a62f8448004b8878f3cf3b6ed6df04c8ea8c8fb6"
   }
  }
 },
 "nbformat": 4,
 "nbformat_minor": 2
}
